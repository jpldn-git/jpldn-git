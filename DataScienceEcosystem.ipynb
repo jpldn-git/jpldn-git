{
 "cells": [
  {
   "cell_type": "markdown",
   "id": "0e1e3767-cc2c-43f8-a90a-951d2538fad5",
   "metadata": {},
   "source": [
    "# Data Science Tools and Ecosystem"
   ]
  },
  {
   "cell_type": "markdown",
   "id": "def341a4-6842-4d8c-a0de-e5c26535e2f4",
   "metadata": {},
   "source": [
    "In this notebook, Data Science Tools and Ecosystem are summarized."
   ]
  },
  {
   "cell_type": "markdown",
   "id": "28b1de6e-efa4-447d-bded-f5162f3a9076",
   "metadata": {},
   "source": [
    "**Objectives:**\n",
    "\n",
    "- List popular languages for Data Science\n",
    "- List popular libraries for Data Science\n",
    "- List popular tools for Data Science\n"
   ]
  },
  {
   "cell_type": "markdown",
   "id": "381e6f89-eef1-4dba-9bf9-9dda76ee917a",
   "metadata": {},
   "source": [
    "## Author\n",
    "J Payne"
   ]
  },
  {
   "cell_type": "markdown",
   "id": "989bef93-3c92-465e-8954-dab0433b40b1",
   "metadata": {},
   "source": [
    "Some of the popular languages that Data Scientists use are:\n",
    "\n",
    "1. Python\n",
    "2. R\n",
    "3. SQL"
   ]
  },
  {
   "cell_type": "markdown",
   "id": "57d25944-2001-41bb-a145-5e68e569d08a",
   "metadata": {},
   "source": [
    "Some of the commonly used libraries used by Data Scientists include:\n",
    "\n",
    "1. Python Pandas\n",
    "2. Python Matplotlib\n",
    "3. R ggplot\n",
    "4. Python Numpy"
   ]
  },
  {
   "cell_type": "markdown",
   "id": "fdcea1aa-e66e-4d28-ba5a-8a44609ecf07",
   "metadata": {},
   "source": [
    "Data Science Tools\n",
    "|------|\n",
    "| PyCharm |\n",
    "| RStudio |\n",
    "| MS Visual Studio |\n"
   ]
  },
  {
   "cell_type": "markdown",
   "id": "5af0b6a9-b007-400d-afa9-bc4a036dda08",
   "metadata": {},
   "source": [
    "### Below are a few examples of evaluating arithmetic expressions in Python"
   ]
  },
  {
   "cell_type": "code",
   "execution_count": 32,
   "id": "f0de86f3-0a7b-4925-ba1e-77d315b1585f",
   "metadata": {},
   "outputs": [
    {
     "data": {
      "text/plain": [
       "17"
      ]
     },
     "execution_count": 32,
     "metadata": {},
     "output_type": "execute_result"
    }
   ],
   "source": [
    "# This a simple arithmetic expression to mutiply then add integers\n",
    "\n",
    "(3*4)+5"
   ]
  },
  {
   "cell_type": "code",
   "execution_count": 33,
   "id": "8439bea7-72b1-4deb-9a0c-339fa5a0cc7b",
   "metadata": {},
   "outputs": [
    {
     "data": {
      "text/plain": [
       "3.3333333333333335"
      ]
     },
     "execution_count": 33,
     "metadata": {},
     "output_type": "execute_result"
    }
   ],
   "source": [
    "# This will convert 200 minutes to hours by diving by 60\n",
    "200/60"
   ]
  },
  {
   "cell_type": "code",
   "execution_count": null,
   "id": "9b3939d7-3097-4e39-a572-d9724c50b55a",
   "metadata": {},
   "outputs": [],
   "source": []
  }
 ],
 "metadata": {
  "kernelspec": {
   "display_name": "Python [conda env:base] *",
   "language": "python",
   "name": "conda-base-py"
  },
  "language_info": {
   "codemirror_mode": {
    "name": "ipython",
    "version": 3
   },
   "file_extension": ".py",
   "mimetype": "text/x-python",
   "name": "python",
   "nbconvert_exporter": "python",
   "pygments_lexer": "ipython3",
   "version": "3.12.7"
  }
 },
 "nbformat": 4,
 "nbformat_minor": 5
}
